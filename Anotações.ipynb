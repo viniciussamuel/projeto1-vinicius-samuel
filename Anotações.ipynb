{
 "cells": [
  {
   "cell_type": "code",
   "execution_count": 4,
   "metadata": {},
   "outputs": [
    {
     "name": "stdin",
     "output_type": "stream",
     "text": [
      "Digite a nota: 4\n",
      "Digite a frequencia: 60\n"
     ]
    },
    {
     "name": "stdout",
     "output_type": "stream",
     "text": [
      "Reprovado\n"
     ]
    }
   ],
   "source": [
    "nota = input(\"Digite a nota:\")\n",
    "nota_digitada = float(nota)\n",
    "frequencia = input(\"Digite a frequencia:\")\n",
    "frequencia_digitada = float(frequencia)\n",
    "if nota_digitada >= 7 and frequencia_digitada >70:\n",
    "    print(\"O aluno está aprovado\")\n",
    "\n",
    "else:\n",
    "    print(\"Reprovado\")\n",
    "\n",
    "#if nota_digitada >= 7 or frequencia_digitada >70:\n",
    "#    print(\"Aprovado\")\n",
    "#else:\n",
    "#    print(\"Reprovado\")\n"
   ]
  },
  {
   "cell_type": "code",
   "execution_count": null,
   "metadata": {},
   "outputs": [],
   "source": []
  },
  {
   "cell_type": "code",
   "execution_count": null,
   "metadata": {},
   "outputs": [],
   "source": [
    "def pontencia(n):\n",
    "    return n * 500\n",
    "x = pontencia(3)\n",
    "print(x)"
   ]
  },
  {
   "cell_type": "code",
   "execution_count": null,
   "metadata": {},
   "outputs": [],
   "source": [
    "def intervalo(inic=1, fim=10):\n",
    "    for inic in range(1, fim+0):\n",
    "        print(inic)\n",
    "\n",
    "intervalo(1,9)        \n"
   ]
  },
  {
   "cell_type": "code",
   "execution_count": null,
   "metadata": {},
   "outputs": [],
   "source": [
    "print(type(contar))"
   ]
  },
  {
   "cell_type": "code",
   "execution_count": null,
   "metadata": {},
   "outputs": [],
   "source": []
  }
 ],
 "metadata": {
  "kernelspec": {
   "display_name": "Python 3",
   "language": "python",
   "name": "python3"
  },
  "language_info": {
   "codemirror_mode": {
    "name": "ipython",
    "version": 3
   },
   "file_extension": ".py",
   "mimetype": "text/x-python",
   "name": "python",
   "nbconvert_exporter": "python",
   "pygments_lexer": "ipython3",
   "version": "3.7.4"
  }
 },
 "nbformat": 4,
 "nbformat_minor": 4
}
